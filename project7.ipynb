{
 "cells": [
  {
   "cell_type": "code",
   "execution_count": 1,
   "metadata": {},
   "outputs": [],
   "source": [
    "# imports\n",
    "from nn import *\n",
    "import numpy as np\n",
    "import matplotlib.pyplot as plt\n",
    "\n",
    "from sklearn.datasets import load_digits\n",
    "from sklearn.model_selection import train_test_split"
   ]
  },
  {
   "cell_type": "markdown",
   "metadata": {},
   "source": [
    "# Autoencoder"
   ]
  },
  {
   "cell_type": "code",
   "execution_count": 2,
   "metadata": {},
   "outputs": [],
   "source": [
    "# Generate an instance of the NeuralNetwork class for the 64x16x64 autoencoder\n",
    "network = nn.NeuralNetwork([{\"input_dim\": 64, \"output_dim\": 16, \"activation\": \"relu\"},\n",
    "                            {\"input_dim\": 16, \"output_dim\": 64, \"activation\": \"relu\"}], \n",
    "                            lr = 0.0001, seed = 26, batch_size = 150, epochs =1000, loss_function = \"mse\")"
   ]
  },
  {
   "cell_type": "code",
   "execution_count": 3,
   "metadata": {},
   "outputs": [],
   "source": [
    "# Read in digits dataset from sklearn\n",
    "digits = load_digits()"
   ]
  },
  {
   "cell_type": "code",
   "execution_count": 4,
   "metadata": {},
   "outputs": [],
   "source": [
    "# Split the digits dataset into a train and validation set\n",
    "X_train, X_val, y_train, y_val = train_test_split(digits.data, \n",
    "                                                digits.target,\n",
    "                                                test_size = 0.2,\n",
    "                                                shuffle=True,\n",
    "                                                random_state = 26)"
   ]
  },
  {
   "cell_type": "code",
   "execution_count": 5,
   "metadata": {},
   "outputs": [],
   "source": [
    "# train autoencoder on the train split of the digits dataset \n",
    "per_epoch_loss_train, per_epoch_loss_val = network.fit(X_train, X_train, X_val, X_val)"
   ]
  },
  {
   "cell_type": "code",
   "execution_count": 6,
   "metadata": {},
   "outputs": [
    {
     "data": {
      "text/plain": [
       "<matplotlib.legend.Legend at 0x7fd9c92dac70>"
      ]
     },
     "execution_count": 6,
     "metadata": {},
     "output_type": "execute_result"
    },
    {
     "data": {
      "image/png": "[encoded data removed]",
      "text/plain": [
       "<Figure size 432x288 with 1 Axes>"
      ]
     },
     "metadata": {
      "needs_background": "light"
     },
     "output_type": "display_data"
    }
   ],
   "source": [
    "plt.plot(per_epoch_loss_train, label='train')\n",
    "plt.plot(per_epoch_loss_val, label='validation')\n",
    "plt.legend()"
   ]
  }
 ],
 "metadata": {
  "interpreter": {
   "hash": "a379f670aa66c278d843408ac49db2a4049b7bcffe55b77724c6411b946aefc5"
  },
  "kernelspec": {
   "display_name": "Python 3.9.7 ('bmi203_proj7')",
   "language": "python",
   "name": "python3"
  },
  "language_info": {
   "codemirror_mode": {
    "name": "ipython",
    "version": 3
   },
   "file_extension": ".py",
   "mimetype": "text/x-python",
   "name": "python",
   "nbconvert_exporter": "python",
   "pygments_lexer": "ipython3",
   "version": "3.9.7"
  },
  "orig_nbformat": 4
 },
 "nbformat": 4,
 "nbformat_minor": 2
}
