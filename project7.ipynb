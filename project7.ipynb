{
 "cells": [
  {
   "cell_type": "code",
   "execution_count": 1,
   "metadata": {},
   "outputs": [],
   "source": [
    "# imports\n",
    "from nn import *\n",
    "import numpy as np\n",
    "import matplotlib.pyplot as plt\n",
    "\n",
    "from sklearn.datasets import load_digits\n",
    "from sklearn.model_selection import train_test_split"
   ]
  },
  {
   "cell_type": "markdown",
   "metadata": {},
   "source": [
    "# Autoencoder"
   ]
  },
  {
   "cell_type": "code",
   "execution_count": 2,
   "metadata": {},
   "outputs": [],
   "source": [
    "# Generate an instance of the NeuralNetwork class for the 64x16x64 autoencoder\n",
    "network = nn.NeuralNetwork([{\"input_dim\": 64, \"output_dim\": 16, \"activation\": \"relu\"},\n",
    "                            {\"input_dim\": 16, \"output_dim\": 64, \"activation\": \"relu\"}], \n",
    "                            lr = 0.0001, seed = 26, batch_size = 150, epochs =1000, loss_function = \"mse\")"
   ]
  },
  {
   "cell_type": "code",
   "execution_count": 3,
   "metadata": {},
   "outputs": [],
   "source": [
    "# Read in digits dataset from sklearn\n",
    "digits = load_digits()"
   ]
  },
  {
   "cell_type": "code",
   "execution_count": 4,
   "metadata": {},
   "outputs": [],
   "source": [
    "# Split the digits dataset into a train and validation set\n",
    "X_train, X_test, y_train, y_test = train_test_split(digits.data, \n",
    "                                                digits.target,\n",
    "                                                test_size = 0.2,\n",
    "                                                shuffle=True,\n",
    "                                                random_state = 26)"
   ]
  },
  {
   "cell_type": "code",
   "execution_count": 5,
   "metadata": {},
   "outputs": [],
   "source": [
    "# train autoencoder on the train split of the digits dataset \n",
    "per_epoch_loss_train, per_epoch_loss_val = network.fit(X_train, X_train, X_test, X_test)"
   ]
  },
  {
   "cell_type": "code",
   "execution_count": 6,
   "metadata": {},
   "outputs": [
    {
     "data": {
      "text/plain": [
       "<matplotlib.legend.Legend at 0x7f8cd0c1ff10>"
      ]
     },
     "execution_count": 6,
     "metadata": {},
     "output_type": "execute_result"
    },
    {
     "data": {
      "image/png": "[encoded data removed]",
      "text/plain": [
       "<Figure size 432x288 with 1 Axes>"
      ]
     },
     "metadata": {
      "needs_background": "light"
     },
     "output_type": "display_data"
    }
   ],
   "source": [
    "plt.plot(per_epoch_loss_train, label='train')\n",
    "plt.plot(per_epoch_loss_val, label='validation')\n",
    "plt.legend()"
   ]
  },
  {
   "cell_type": "markdown",
   "metadata": {},
   "source": [
    "### hyperparameters\n",
    "\n",
    "* learning rate: the step size for each iteration that optimally moves toward a minimum of a loss function (gradient).\n",
    "\n",
    "\n",
    "* batch_size: the number of samples that will propagate through the network.\n",
    "\n",
    "\n",
    "* epochs: the number of passes of the training dataset the learning algorithm will complete.\n",
    "\n",
    "\n",
    "* loss function: measures an estimate of how far a predicted value is from its true value.\n",
    "\n",
    "\n",
    "* activation function: defines how a weighted sum of an input is transformed into an output.\n",
    "\n",
    "\n",
    "* consider number of hidden layers\n",
    "\n",
    "\n",
    "The hyperparameters should be selected by assessing the reconstruction error over a grid search space- combinations of hyperparameters. "
   ]
  },
  {
   "cell_type": "code",
   "execution_count": 7,
   "metadata": {},
   "outputs": [
    {
     "name": "stdout",
     "output_type": "stream",
     "text": [
      "MSE: 10.986215240280933\n",
      "Observed\n"
     ]
    },
    {
     "data": {
      "image/png": "[encoded data removed]",
      "text/plain": [
       "<Figure size 288x288 with 1 Axes>"
      ]
     },
     "metadata": {
      "needs_background": "light"
     },
     "output_type": "display_data"
    },
    {
     "name": "stdout",
     "output_type": "stream",
     "text": [
      "Predicted\n"
     ]
    },
    {
     "data": {
      "image/png": "[encoded data removed]",
      "text/plain": [
       "<Figure size 288x288 with 1 Axes>"
      ]
     },
     "metadata": {
      "needs_background": "light"
     },
     "output_type": "display_data"
    }
   ],
   "source": [
    "\n",
    "predicted = network.predict(X_test)\n",
    "print(\"MSE: \" + str(network._mean_squared_error(X_test, predicted)))\n",
    "\n",
    "print('Observed')\n",
    "plt.matshow(X_test[26].reshape((8, 8)))\n",
    "plt.show()\n",
    "\n",
    "print('Predicted')\n",
    "plt.matshow(predicted[26].reshape((8, 8)))\n",
    "plt.show()"
   ]
  },
  {
   "cell_type": "markdown",
   "metadata": {},
   "source": [
    "# Transcription Factor Classifier"
   ]
  },
  {
   "cell_type": "code",
   "execution_count": 2,
   "metadata": {},
   "outputs": [],
   "source": [
    "from nn import *\n",
    "import numpy as np\n",
    "import matplotlib.pyplot as plt\n",
    "\n",
    "from sklearn.datasets import load_digits\n",
    "from sklearn.model_selection import train_test_split"
   ]
  },
  {
   "cell_type": "code",
   "execution_count": 3,
   "metadata": {},
   "outputs": [
    {
     "name": "stdout",
     "output_type": "stream",
     "text": [
      "137\n",
      "3163\n",
      "1000\n",
      "17\n"
     ]
    }
   ],
   "source": [
    "pos_seqs = io.read_text_file('data/rap1-lieb-positives.txt')\n",
    "neg_seqs = io.read_fasta_file('data/yeast-upstream-1k-negative.fa')\n",
    "\n",
    "# Sequences\n",
    "print(len(pos_seqs))\n",
    "print(len(neg_seqs))\n",
    "\n",
    "# Sequence lengths  \n",
    "print(len(neg_seqs[0]))\n",
    "print(len(pos_seqs[0]))"
   ]
  },
  {
   "cell_type": "code",
   "execution_count": 4,
   "metadata": {},
   "outputs": [],
   "source": [
    "# Reference https://stackoverflow.com/questions/13673060/split-string-into-strings-by-length\n",
    "\n",
    "# NOTE: Model will not train if negative sequences are longer than positive sequences\n",
    "length = len(pos_seqs[0])\n",
    "neg_seqs_list = []\n",
    "for sequence in neg_seqs:\n",
    "    length_size = len(sequence) // length\n",
    "    # slide subset window over each negative sequence to match positive sequence length\n",
    "    neg_seqs_list += [sequence[length * cut:length * (cut + 1)] for cut in range(length_size)]\n",
    "    "
   ]
  },
  {
   "cell_type": "code",
   "execution_count": 5,
   "metadata": {},
   "outputs": [],
   "source": [
    "total_seqs = pos_seqs + neg_seqs_list\n",
    "total_labels = len(pos_seqs)*[0] + len(neg_seqs_list)*[1]"
   ]
  },
  {
   "cell_type": "code",
   "execution_count": 6,
   "metadata": {},
   "outputs": [],
   "source": [
    "# correct for imbalanced dataset by upsampling the positve class \n",
    "total_seqs, total_labels = preprocess.sample_seqs(total_seqs, total_labels) "
   ]
  },
  {
   "cell_type": "code",
   "execution_count": 7,
   "metadata": {},
   "outputs": [],
   "source": [
    "X_train, X_test, y_train, y_test= train_test_split(total_seqs, np.array(total_labels), test_size = 0.2, random_state = 26)\n",
    "X_train = preprocess.one_hot_encode_seqs(X_train)\n",
    "X_test = preprocess.one_hot_encode_seqs(X_test)"
   ]
  },
  {
   "cell_type": "code",
   "execution_count": 8,
   "metadata": {},
   "outputs": [
    {
     "name": "stdout",
     "output_type": "stream",
     "text": [
      "(293275, 68)\n",
      "(293275,)\n",
      "(73319, 68)\n",
      "(73319,)\n"
     ]
    }
   ],
   "source": [
    "print(X_train.shape)\n",
    "print(y_train.shape)\n",
    "print(X_test.shape)\n",
    "print(y_test.shape)"
   ]
  },
  {
   "cell_type": "code",
   "execution_count": 9,
   "metadata": {},
   "outputs": [],
   "source": [
    "y_train = y_train.reshape(-1, 1)\n",
    "y_test = y_test.reshape(-1, 1)"
   ]
  },
  {
   "cell_type": "code",
   "execution_count": 10,
   "metadata": {},
   "outputs": [],
   "source": [
    "# for each layer, the output dimensions are halved \n",
    "network = nn.NeuralNetwork([{\"input_dim\": 68, \"output_dim\": 34, \"activation\": \"relu\"}, \n",
    "                            {\"input_dim\": 34, \"output_dim\": 17, \"activation\": \"relu\"},\n",
    "                            {\"input_dim\": 17, \"output_dim\": 1, \"activation\": \"relu\"},], \n",
    "                            lr = 0.01, seed = 26, batch_size = 100, epochs = 30, loss_function = \"mse\")"
   ]
  },
  {
   "cell_type": "code",
   "execution_count": 11,
   "metadata": {},
   "outputs": [],
   "source": [
    "per_epoch_loss_train, per_epoch_loss_val = network.fit(X_train, y_train, X_test, y_test)"
   ]
  },
  {
   "cell_type": "code",
   "execution_count": 12,
   "metadata": {},
   "outputs": [
    {
     "data": {
      "text/plain": [
       "<matplotlib.legend.Legend at 0x7fd3395148e0>"
      ]
     },
     "execution_count": 12,
     "metadata": {},
     "output_type": "execute_result"
    },
    {
     "data": {
      "image/png": "[encoded data removed]",
      "text/plain": [
       "<Figure size 432x288 with 1 Axes>"
      ]
     },
     "metadata": {
      "needs_background": "light"
     },
     "output_type": "display_data"
    }
   ],
   "source": [
    "plt.plot(per_epoch_loss_train, label='train')\n",
    "plt.plot(per_epoch_loss_val, label='validation')\n",
    "plt.legend()"
   ]
  },
  {
   "cell_type": "code",
   "execution_count": 13,
   "metadata": {},
   "outputs": [
    {
     "name": "stdout",
     "output_type": "stream",
     "text": [
      "0.9999045267938733\n"
     ]
    }
   ],
   "source": [
    "predicted = network.predict(X_test)\n",
    "from sklearn.metrics import accuracy_score\n",
    "print(accuracy_score(y_test,np.round(predicted))) # round to nearest whole number for binary prediction [0,1]"
   ]
  },
  {
   "cell_type": "markdown",
   "metadata": {},
   "source": [
    "### Hyperparameters\n",
    "The hyperparameters should be selected by assessing the AUC and reconstruction error over a grid search space- combinations of hyperparameters. "
   ]
  }
 ],
 "metadata": {
  "interpreter": {
   "hash": "a379f670aa66c278d843408ac49db2a4049b7bcffe55b77724c6411b946aefc5"
  },
  "kernelspec": {
   "display_name": "Python 3.9.7 ('bmi203_proj7')",
   "language": "python",
   "name": "python3"
  },
  "language_info": {
   "codemirror_mode": {
    "name": "ipython",
    "version": 3
   },
   "file_extension": ".py",
   "mimetype": "text/x-python",
   "name": "python",
   "nbconvert_exporter": "python",
   "pygments_lexer": "ipython3",
   "version": "3.9.7"
  },
  "orig_nbformat": 4
 },
 "nbformat": 4,
 "nbformat_minor": 2
}
